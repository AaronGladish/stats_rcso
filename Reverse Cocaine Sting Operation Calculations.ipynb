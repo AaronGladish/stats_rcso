{
 "cells": [
  {
   "cell_type": "code",
   "execution_count": 26,
   "metadata": {},
   "outputs": [],
   "source": [
    "successes <- c(4:496)  # The number of bags that contain the illegal substance in reality, ranges from 4 to 496"
   ]
  },
  {
   "cell_type": "code",
   "execution_count": 27,
   "metadata": {},
   "outputs": [],
   "source": [
    "failures <- 496 - successes   # The number of bags that do not contain the illegal substance"
   ]
  },
  {
   "cell_type": "code",
   "execution_count": 28,
   "metadata": {},
   "outputs": [],
   "source": [
    "PXis4 <- dhyper(4, successes, failures, 4)  # The probability that the number of bags found in the house is 4"
   ]
  },
  {
   "cell_type": "code",
   "execution_count": 29,
   "metadata": {},
   "outputs": [],
   "source": [
    "PYis2GivenXis4 <- dhyper(2, failures, successes-4, 2)  # The conditional probability that the two bags sold in the sting did not contain the illegal substance given that four bags containing the illegal substance were found in the house"
   ]
  },
  {
   "cell_type": "code",
   "execution_count": 30,
   "metadata": {},
   "outputs": [],
   "source": [
    "PYis2 <- PXis4 * PYis2GivenXis4  # The probability that two bags sold in the sting did not contain the illegal substance - i.e. the probability of innocence"
   ]
  },
  {
   "cell_type": "code",
   "execution_count": 31,
   "metadata": {},
   "outputs": [],
   "source": [
    "results_df <- as.data.frame(cbind(successes, failures, PYis2))  # This is just to make it simpler to refer to one of the columns"
   ]
  },
  {
   "cell_type": "code",
   "execution_count": 32,
   "metadata": {},
   "outputs": [],
   "source": [
    "colnames(results_df) <- c(\"Successes\", \"Failures\", \"PInnocence\")"
   ]
  },
  {
   "cell_type": "code",
   "execution_count": 33,
   "metadata": {},
   "outputs": [
    {
     "data": {
      "text/html": [
       "<table>\n",
       "<thead><tr><th></th><th scope=col>Successes</th><th scope=col>Failures</th><th scope=col>PInnocence</th></tr></thead>\n",
       "<tbody>\n",
       "\t<tr><th scope=row>328</th><td>331       </td><td>165       </td><td>0.02208168</td></tr>\n",
       "</tbody>\n",
       "</table>\n"
      ],
      "text/latex": [
       "\\begin{tabular}{r|lll}\n",
       "  & Successes & Failures & PInnocence\\\\\n",
       "\\hline\n",
       "\t328 & 331        & 165        & 0.02208168\\\\\n",
       "\\end{tabular}\n"
      ],
      "text/markdown": [
       "\n",
       "| <!--/--> | Successes | Failures | PInnocence | \n",
       "|---|\n",
       "| 328 | 331        | 165        | 0.02208168 | \n",
       "\n",
       "\n"
      ],
      "text/plain": [
       "    Successes Failures PInnocence\n",
       "328 331       165      0.02208168"
      ]
     },
     "metadata": {},
     "output_type": "display_data"
    }
   ],
   "source": [
    "results_df[which.max(results_df$PInnocence),]  # The maximum liklihood of innocence occurs when 331 bags contain the illegal substance and 165 do no"
   ]
  },
  {
   "cell_type": "code",
   "execution_count": 34,
   "metadata": {},
   "outputs": [
    {
     "data": {
      "image/png": "[encoded data removed]",
      "text/plain": [
       "plot without title"
      ]
     },
     "metadata": {},
     "output_type": "display_data"
    }
   ],
   "source": [
    "plot(successes, PYis2, type=\"l\")"
   ]
  },
  {
   "cell_type": "code",
   "execution_count": 35,
   "metadata": {},
   "outputs": [
    {
     "data": {
      "text/html": [
       "<table>\n",
       "<thead><tr><th scope=col>Successes</th><th scope=col>Failures</th><th scope=col>PInnocence</th></tr></thead>\n",
       "<tbody>\n",
       "\t<tr><td> 4          </td><td>492         </td><td>4.013752e-10</td></tr>\n",
       "\t<tr><td> 5          </td><td>491         </td><td>1.998718e-09</td></tr>\n",
       "\t<tr><td> 6          </td><td>490         </td><td>5.971729e-09</td></tr>\n",
       "\t<tr><td> 7          </td><td>489         </td><td>1.387716e-08</td></tr>\n",
       "\t<tr><td> 8          </td><td>488         </td><td>2.764081e-08</td></tr>\n",
       "\t<tr><td> 9          </td><td>487         </td><td>4.954955e-08</td></tr>\n",
       "\t<tr><td>10          </td><td>486         </td><td>8.224343e-08</td></tr>\n",
       "\t<tr><td>11          </td><td>485         </td><td>1.287078e-07</td></tr>\n",
       "\t<tr><td>12          </td><td>484         </td><td>1.922656e-07</td></tr>\n",
       "\t<tr><td>13          </td><td>483         </td><td>2.765694e-07</td></tr>\n",
       "\t<tr><td>14          </td><td>482         </td><td>3.855938e-07</td></tr>\n",
       "\t<tr><td>15          </td><td>481         </td><td>5.236280e-07</td></tr>\n",
       "\t<tr><td>16          </td><td>480         </td><td>6.952677e-07</td></tr>\n",
       "\t<tr><td>17          </td><td>479         </td><td>9.054079e-07</td></tr>\n",
       "\t<tr><td>18          </td><td>478         </td><td>1.159235e-06</td></tr>\n",
       "\t<tr><td>19          </td><td>477         </td><td>1.462221e-06</td></tr>\n",
       "\t<tr><td>20          </td><td>476         </td><td>1.820113e-06</td></tr>\n",
       "\t<tr><td>21          </td><td>475         </td><td>2.238927e-06</td></tr>\n",
       "\t<tr><td>22          </td><td>474         </td><td>2.724945e-06</td></tr>\n",
       "\t<tr><td>23          </td><td>473         </td><td>3.284699e-06</td></tr>\n",
       "\t<tr><td>24          </td><td>472         </td><td>3.924973e-06</td></tr>\n",
       "\t<tr><td>25          </td><td>471         </td><td>4.652787e-06</td></tr>\n",
       "\t<tr><td>26          </td><td>470         </td><td>5.475399e-06</td></tr>\n",
       "\t<tr><td>27          </td><td>469         </td><td>6.400291e-06</td></tr>\n",
       "\t<tr><td>28          </td><td>468         </td><td>7.435164e-06</td></tr>\n",
       "\t<tr><td>29          </td><td>467         </td><td>8.587932e-06</td></tr>\n",
       "\t<tr><td>30          </td><td>466         </td><td>9.866715e-06</td></tr>\n",
       "\t<tr><td>31          </td><td>465         </td><td>1.127983e-05</td></tr>\n",
       "\t<tr><td>32          </td><td>464         </td><td>1.283579e-05</td></tr>\n",
       "\t<tr><td>33          </td><td>463         </td><td>1.454328e-05</td></tr>\n",
       "\t<tr><td>...</td><td>...</td><td>...</td></tr>\n",
       "\t<tr><td>467         </td><td>29          </td><td>2.639505e-03</td></tr>\n",
       "\t<tr><td>468         </td><td>28          </td><td>2.478655e-03</td></tr>\n",
       "\t<tr><td>469         </td><td>27          </td><td>2.321407e-03</td></tr>\n",
       "\t<tr><td>470         </td><td>26          </td><td>2.167901e-03</td></tr>\n",
       "\t<tr><td>471         </td><td>25          </td><td>2.018280e-03</td></tr>\n",
       "\t<tr><td>472         </td><td>24          </td><td>1.872688e-03</td></tr>\n",
       "\t<tr><td>473         </td><td>23          </td><td>1.731271e-03</td></tr>\n",
       "\t<tr><td>474         </td><td>22          </td><td>1.594179e-03</td></tr>\n",
       "\t<tr><td>475         </td><td>21          </td><td>1.461561e-03</td></tr>\n",
       "\t<tr><td>476         </td><td>20          </td><td>1.333571e-03</td></tr>\n",
       "\t<tr><td>477         </td><td>19          </td><td>1.210364e-03</td></tr>\n",
       "\t<tr><td>478         </td><td>18          </td><td>1.092096e-03</td></tr>\n",
       "\t<tr><td>479         </td><td>17          </td><td>9.789270e-04</td></tr>\n",
       "\t<tr><td>480         </td><td>16          </td><td>8.710176e-04</td></tr>\n",
       "\t<tr><td>481         </td><td>15          </td><td>7.685315e-04</td></tr>\n",
       "\t<tr><td>482         </td><td>14          </td><td>6.716344e-04</td></tr>\n",
       "\t<tr><td>483         </td><td>13          </td><td>5.804940e-04</td></tr>\n",
       "\t<tr><td>484         </td><td>12          </td><td>4.952805e-04</td></tr>\n",
       "\t<tr><td>485         </td><td>11          </td><td>4.161660e-04</td></tr>\n",
       "\t<tr><td>486         </td><td>10          </td><td>3.433252e-04</td></tr>\n",
       "\t<tr><td>487         </td><td> 9          </td><td>2.769348e-04</td></tr>\n",
       "\t<tr><td>488         </td><td> 8          </td><td>2.171738e-04</td></tr>\n",
       "\t<tr><td>489         </td><td> 7          </td><td>1.642237e-04</td></tr>\n",
       "\t<tr><td>490         </td><td> 6          </td><td>1.182681e-04</td></tr>\n",
       "\t<tr><td>491         </td><td> 5          </td><td>7.949300e-05</td></tr>\n",
       "\t<tr><td>492         </td><td> 4          </td><td>4.808675e-05</td></tr>\n",
       "\t<tr><td>493         </td><td> 3          </td><td>2.424005e-05</td></tr>\n",
       "\t<tr><td>494         </td><td> 2          </td><td>8.145976e-06</td></tr>\n",
       "\t<tr><td>495         </td><td> 1          </td><td>0.000000e+00</td></tr>\n",
       "\t<tr><td>496         </td><td> 0          </td><td>0.000000e+00</td></tr>\n",
       "</tbody>\n",
       "</table>\n"
      ],
      "text/latex": [
       "\\begin{tabular}{r|lll}\n",
       " Successes & Failures & PInnocence\\\\\n",
       "\\hline\n",
       "\t  4           & 492          & 4.013752e-10\\\\\n",
       "\t  5           & 491          & 1.998718e-09\\\\\n",
       "\t  6           & 490          & 5.971729e-09\\\\\n",
       "\t  7           & 489          & 1.387716e-08\\\\\n",
       "\t  8           & 488          & 2.764081e-08\\\\\n",
       "\t  9           & 487          & 4.954955e-08\\\\\n",
       "\t 10           & 486          & 8.224343e-08\\\\\n",
       "\t 11           & 485          & 1.287078e-07\\\\\n",
       "\t 12           & 484          & 1.922656e-07\\\\\n",
       "\t 13           & 483          & 2.765694e-07\\\\\n",
       "\t 14           & 482          & 3.855938e-07\\\\\n",
       "\t 15           & 481          & 5.236280e-07\\\\\n",
       "\t 16           & 480          & 6.952677e-07\\\\\n",
       "\t 17           & 479          & 9.054079e-07\\\\\n",
       "\t 18           & 478          & 1.159235e-06\\\\\n",
       "\t 19           & 477          & 1.462221e-06\\\\\n",
       "\t 20           & 476          & 1.820113e-06\\\\\n",
       "\t 21           & 475          & 2.238927e-06\\\\\n",
       "\t 22           & 474          & 2.724945e-06\\\\\n",
       "\t 23           & 473          & 3.284699e-06\\\\\n",
       "\t 24           & 472          & 3.924973e-06\\\\\n",
       "\t 25           & 471          & 4.652787e-06\\\\\n",
       "\t 26           & 470          & 5.475399e-06\\\\\n",
       "\t 27           & 469          & 6.400291e-06\\\\\n",
       "\t 28           & 468          & 7.435164e-06\\\\\n",
       "\t 29           & 467          & 8.587932e-06\\\\\n",
       "\t 30           & 466          & 9.866715e-06\\\\\n",
       "\t 31           & 465          & 1.127983e-05\\\\\n",
       "\t 32           & 464          & 1.283579e-05\\\\\n",
       "\t 33           & 463          & 1.454328e-05\\\\\n",
       "\t ... & ... & ...\\\\\n",
       "\t 467          & 29           & 2.639505e-03\\\\\n",
       "\t 468          & 28           & 2.478655e-03\\\\\n",
       "\t 469          & 27           & 2.321407e-03\\\\\n",
       "\t 470          & 26           & 2.167901e-03\\\\\n",
       "\t 471          & 25           & 2.018280e-03\\\\\n",
       "\t 472          & 24           & 1.872688e-03\\\\\n",
       "\t 473          & 23           & 1.731271e-03\\\\\n",
       "\t 474          & 22           & 1.594179e-03\\\\\n",
       "\t 475          & 21           & 1.461561e-03\\\\\n",
       "\t 476          & 20           & 1.333571e-03\\\\\n",
       "\t 477          & 19           & 1.210364e-03\\\\\n",
       "\t 478          & 18           & 1.092096e-03\\\\\n",
       "\t 479          & 17           & 9.789270e-04\\\\\n",
       "\t 480          & 16           & 8.710176e-04\\\\\n",
       "\t 481          & 15           & 7.685315e-04\\\\\n",
       "\t 482          & 14           & 6.716344e-04\\\\\n",
       "\t 483          & 13           & 5.804940e-04\\\\\n",
       "\t 484          & 12           & 4.952805e-04\\\\\n",
       "\t 485          & 11           & 4.161660e-04\\\\\n",
       "\t 486          & 10           & 3.433252e-04\\\\\n",
       "\t 487          &  9           & 2.769348e-04\\\\\n",
       "\t 488          &  8           & 2.171738e-04\\\\\n",
       "\t 489          &  7           & 1.642237e-04\\\\\n",
       "\t 490          &  6           & 1.182681e-04\\\\\n",
       "\t 491          &  5           & 7.949300e-05\\\\\n",
       "\t 492          &  4           & 4.808675e-05\\\\\n",
       "\t 493          &  3           & 2.424005e-05\\\\\n",
       "\t 494          &  2           & 8.145976e-06\\\\\n",
       "\t 495          &  1           & 0.000000e+00\\\\\n",
       "\t 496          &  0           & 0.000000e+00\\\\\n",
       "\\end{tabular}\n"
      ],
      "text/markdown": [
       "\n",
       "Successes | Failures | PInnocence | \n",
       "|---|---|---|---|---|---|---|---|---|---|---|---|---|---|---|---|---|---|---|---|---|---|---|---|---|---|---|---|---|---|---|---|---|---|---|---|---|---|---|---|---|---|---|---|---|---|---|---|---|---|---|---|---|---|---|---|---|---|---|---|---|\n",
       "|  4           | 492          | 4.013752e-10 | \n",
       "|  5           | 491          | 1.998718e-09 | \n",
       "|  6           | 490          | 5.971729e-09 | \n",
       "|  7           | 489          | 1.387716e-08 | \n",
       "|  8           | 488          | 2.764081e-08 | \n",
       "|  9           | 487          | 4.954955e-08 | \n",
       "| 10           | 486          | 8.224343e-08 | \n",
       "| 11           | 485          | 1.287078e-07 | \n",
       "| 12           | 484          | 1.922656e-07 | \n",
       "| 13           | 483          | 2.765694e-07 | \n",
       "| 14           | 482          | 3.855938e-07 | \n",
       "| 15           | 481          | 5.236280e-07 | \n",
       "| 16           | 480          | 6.952677e-07 | \n",
       "| 17           | 479          | 9.054079e-07 | \n",
       "| 18           | 478          | 1.159235e-06 | \n",
       "| 19           | 477          | 1.462221e-06 | \n",
       "| 20           | 476          | 1.820113e-06 | \n",
       "| 21           | 475          | 2.238927e-06 | \n",
       "| 22           | 474          | 2.724945e-06 | \n",
       "| 23           | 473          | 3.284699e-06 | \n",
       "| 24           | 472          | 3.924973e-06 | \n",
       "| 25           | 471          | 4.652787e-06 | \n",
       "| 26           | 470          | 5.475399e-06 | \n",
       "| 27           | 469          | 6.400291e-06 | \n",
       "| 28           | 468          | 7.435164e-06 | \n",
       "| 29           | 467          | 8.587932e-06 | \n",
       "| 30           | 466          | 9.866715e-06 | \n",
       "| 31           | 465          | 1.127983e-05 | \n",
       "| 32           | 464          | 1.283579e-05 | \n",
       "| 33           | 463          | 1.454328e-05 | \n",
       "| ... | ... | ... | \n",
       "| 467          | 29           | 2.639505e-03 | \n",
       "| 468          | 28           | 2.478655e-03 | \n",
       "| 469          | 27           | 2.321407e-03 | \n",
       "| 470          | 26           | 2.167901e-03 | \n",
       "| 471          | 25           | 2.018280e-03 | \n",
       "| 472          | 24           | 1.872688e-03 | \n",
       "| 473          | 23           | 1.731271e-03 | \n",
       "| 474          | 22           | 1.594179e-03 | \n",
       "| 475          | 21           | 1.461561e-03 | \n",
       "| 476          | 20           | 1.333571e-03 | \n",
       "| 477          | 19           | 1.210364e-03 | \n",
       "| 478          | 18           | 1.092096e-03 | \n",
       "| 479          | 17           | 9.789270e-04 | \n",
       "| 480          | 16           | 8.710176e-04 | \n",
       "| 481          | 15           | 7.685315e-04 | \n",
       "| 482          | 14           | 6.716344e-04 | \n",
       "| 483          | 13           | 5.804940e-04 | \n",
       "| 484          | 12           | 4.952805e-04 | \n",
       "| 485          | 11           | 4.161660e-04 | \n",
       "| 486          | 10           | 3.433252e-04 | \n",
       "| 487          |  9           | 2.769348e-04 | \n",
       "| 488          |  8           | 2.171738e-04 | \n",
       "| 489          |  7           | 1.642237e-04 | \n",
       "| 490          |  6           | 1.182681e-04 | \n",
       "| 491          |  5           | 7.949300e-05 | \n",
       "| 492          |  4           | 4.808675e-05 | \n",
       "| 493          |  3           | 2.424005e-05 | \n",
       "| 494          |  2           | 8.145976e-06 | \n",
       "| 495          |  1           | 0.000000e+00 | \n",
       "| 496          |  0           | 0.000000e+00 | \n",
       "\n",
       "\n"
      ],
      "text/plain": [
       "    Successes Failures PInnocence  \n",
       "1    4        492      4.013752e-10\n",
       "2    5        491      1.998718e-09\n",
       "3    6        490      5.971729e-09\n",
       "4    7        489      1.387716e-08\n",
       "5    8        488      2.764081e-08\n",
       "6    9        487      4.954955e-08\n",
       "7   10        486      8.224343e-08\n",
       "8   11        485      1.287078e-07\n",
       "9   12        484      1.922656e-07\n",
       "10  13        483      2.765694e-07\n",
       "11  14        482      3.855938e-07\n",
       "12  15        481      5.236280e-07\n",
       "13  16        480      6.952677e-07\n",
       "14  17        479      9.054079e-07\n",
       "15  18        478      1.159235e-06\n",
       "16  19        477      1.462221e-06\n",
       "17  20        476      1.820113e-06\n",
       "18  21        475      2.238927e-06\n",
       "19  22        474      2.724945e-06\n",
       "20  23        473      3.284699e-06\n",
       "21  24        472      3.924973e-06\n",
       "22  25        471      4.652787e-06\n",
       "23  26        470      5.475399e-06\n",
       "24  27        469      6.400291e-06\n",
       "25  28        468      7.435164e-06\n",
       "26  29        467      8.587932e-06\n",
       "27  30        466      9.866715e-06\n",
       "28  31        465      1.127983e-05\n",
       "29  32        464      1.283579e-05\n",
       "30  33        463      1.454328e-05\n",
       "... ...       ...      ...         \n",
       "464 467       29       2.639505e-03\n",
       "465 468       28       2.478655e-03\n",
       "466 469       27       2.321407e-03\n",
       "467 470       26       2.167901e-03\n",
       "468 471       25       2.018280e-03\n",
       "469 472       24       1.872688e-03\n",
       "470 473       23       1.731271e-03\n",
       "471 474       22       1.594179e-03\n",
       "472 475       21       1.461561e-03\n",
       "473 476       20       1.333571e-03\n",
       "474 477       19       1.210364e-03\n",
       "475 478       18       1.092096e-03\n",
       "476 479       17       9.789270e-04\n",
       "477 480       16       8.710176e-04\n",
       "478 481       15       7.685315e-04\n",
       "479 482       14       6.716344e-04\n",
       "480 483       13       5.804940e-04\n",
       "481 484       12       4.952805e-04\n",
       "482 485       11       4.161660e-04\n",
       "483 486       10       3.433252e-04\n",
       "484 487        9       2.769348e-04\n",
       "485 488        8       2.171738e-04\n",
       "486 489        7       1.642237e-04\n",
       "487 490        6       1.182681e-04\n",
       "488 491        5       7.949300e-05\n",
       "489 492        4       4.808675e-05\n",
       "490 493        3       2.424005e-05\n",
       "491 494        2       8.145976e-06\n",
       "492 495        1       0.000000e+00\n",
       "493 496        0       0.000000e+00"
      ]
     },
     "metadata": {},
     "output_type": "display_data"
    }
   ],
   "source": [
    "results_df"
   ]
  },
  {
   "cell_type": "code",
   "execution_count": null,
   "metadata": {},
   "outputs": [],
   "source": []
  }
 ],
 "metadata": {
  "kernelspec": {
   "display_name": "R",
   "language": "R",
   "name": "ir"
  },
  "language_info": {
   "codemirror_mode": "r",
   "file_extension": ".r",
   "mimetype": "text/x-r-source",
   "name": "R",
   "pygments_lexer": "r",
   "version": "3.4.3"
  }
 },
 "nbformat": 4,
 "nbformat_minor": 2
}
